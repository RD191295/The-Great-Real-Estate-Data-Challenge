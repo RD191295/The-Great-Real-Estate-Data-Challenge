{
 "cells": [
  {
   "cell_type": "code",
   "execution_count": 53,
   "id": "3af61b7a",
   "metadata": {},
   "outputs": [],
   "source": [
    "import numpy as np\n",
    "import pandas as pd\n",
    "import matplotlib.pyplot as plt"
   ]
  },
  {
   "cell_type": "code",
   "execution_count": 54,
   "id": "36daca6d",
   "metadata": {},
   "outputs": [
    {
     "data": {
      "text/html": [
       "<div>\n",
       "<style scoped>\n",
       "    .dataframe tbody tr th:only-of-type {\n",
       "        vertical-align: middle;\n",
       "    }\n",
       "\n",
       "    .dataframe tbody tr th {\n",
       "        vertical-align: top;\n",
       "    }\n",
       "\n",
       "    .dataframe thead th {\n",
       "        text-align: right;\n",
       "    }\n",
       "</style>\n",
       "<table border=\"1\" class=\"dataframe\">\n",
       "  <thead>\n",
       "    <tr style=\"text-align: right;\">\n",
       "      <th></th>\n",
       "      <th>Year</th>\n",
       "      <th>Date</th>\n",
       "      <th>Locality</th>\n",
       "      <th>Latitude</th>\n",
       "      <th>Longitude</th>\n",
       "      <th>Address</th>\n",
       "      <th>Estimated Value</th>\n",
       "      <th>Sale Price</th>\n",
       "      <th>Property</th>\n",
       "      <th>Residential</th>\n",
       "      <th>num_rooms</th>\n",
       "      <th>carpet_area</th>\n",
       "      <th>property_tax_rate</th>\n",
       "    </tr>\n",
       "  </thead>\n",
       "  <tbody>\n",
       "    <tr>\n",
       "      <th>0</th>\n",
       "      <td>2009</td>\n",
       "      <td>02-01-2009</td>\n",
       "      <td>Greenwich</td>\n",
       "      <td>41.0389</td>\n",
       "      <td>-73.6136</td>\n",
       "      <td>40 ETTL LN UT 24</td>\n",
       "      <td>711270</td>\n",
       "      <td>975000.0</td>\n",
       "      <td>Condo</td>\n",
       "      <td>Condominium</td>\n",
       "      <td>2</td>\n",
       "      <td>760</td>\n",
       "      <td>1.025953</td>\n",
       "    </tr>\n",
       "    <tr>\n",
       "      <th>1</th>\n",
       "      <td>2009</td>\n",
       "      <td>02-01-2009</td>\n",
       "      <td>East Hampton</td>\n",
       "      <td>41.5667</td>\n",
       "      <td>-72.5000</td>\n",
       "      <td>18 BAUER RD</td>\n",
       "      <td>119970</td>\n",
       "      <td>189900.0</td>\n",
       "      <td>Single Family</td>\n",
       "      <td>Detached House</td>\n",
       "      <td>3</td>\n",
       "      <td>921</td>\n",
       "      <td>1.025953</td>\n",
       "    </tr>\n",
       "    <tr>\n",
       "      <th>2</th>\n",
       "      <td>2009</td>\n",
       "      <td>02-01-2009</td>\n",
       "      <td>Ridgefield</td>\n",
       "      <td>41.3053</td>\n",
       "      <td>-73.5014</td>\n",
       "      <td>48 HIGH VALLEY RD.</td>\n",
       "      <td>494530</td>\n",
       "      <td>825000.0</td>\n",
       "      <td>Single Family</td>\n",
       "      <td>Detached House</td>\n",
       "      <td>3</td>\n",
       "      <td>982</td>\n",
       "      <td>1.025953</td>\n",
       "    </tr>\n",
       "    <tr>\n",
       "      <th>3</th>\n",
       "      <td>2009</td>\n",
       "      <td>02-01-2009</td>\n",
       "      <td>Old Lyme</td>\n",
       "      <td>41.3167</td>\n",
       "      <td>-72.3000</td>\n",
       "      <td>56 MERIDEN RD</td>\n",
       "      <td>197600</td>\n",
       "      <td>450000.0</td>\n",
       "      <td>Single Family</td>\n",
       "      <td>Detached House</td>\n",
       "      <td>3</td>\n",
       "      <td>976</td>\n",
       "      <td>1.025953</td>\n",
       "    </tr>\n",
       "    <tr>\n",
       "      <th>4</th>\n",
       "      <td>2009</td>\n",
       "      <td>02-01-2009</td>\n",
       "      <td>Naugatuck</td>\n",
       "      <td>41.4897</td>\n",
       "      <td>-73.0514</td>\n",
       "      <td>13 CELENTANO DR</td>\n",
       "      <td>105440</td>\n",
       "      <td>200000.0</td>\n",
       "      <td>Single Family</td>\n",
       "      <td>Detached House</td>\n",
       "      <td>3</td>\n",
       "      <td>947</td>\n",
       "      <td>1.025953</td>\n",
       "    </tr>\n",
       "  </tbody>\n",
       "</table>\n",
       "</div>"
      ],
      "text/plain": [
       "   Year        Date      Locality  Latitude  Longitude             Address   \n",
       "0  2009  02-01-2009     Greenwich   41.0389   -73.6136    40 ETTL LN UT 24  \\\n",
       "1  2009  02-01-2009  East Hampton   41.5667   -72.5000         18 BAUER RD   \n",
       "2  2009  02-01-2009    Ridgefield   41.3053   -73.5014  48 HIGH VALLEY RD.   \n",
       "3  2009  02-01-2009      Old Lyme   41.3167   -72.3000       56 MERIDEN RD   \n",
       "4  2009  02-01-2009     Naugatuck   41.4897   -73.0514     13 CELENTANO DR   \n",
       "\n",
       "   Estimated Value  Sale Price       Property     Residential  num_rooms   \n",
       "0           711270    975000.0          Condo     Condominium          2  \\\n",
       "1           119970    189900.0  Single Family  Detached House          3   \n",
       "2           494530    825000.0  Single Family  Detached House          3   \n",
       "3           197600    450000.0  Single Family  Detached House          3   \n",
       "4           105440    200000.0  Single Family  Detached House          3   \n",
       "\n",
       "   carpet_area  property_tax_rate  \n",
       "0          760           1.025953  \n",
       "1          921           1.025953  \n",
       "2          982           1.025953  \n",
       "3          976           1.025953  \n",
       "4          947           1.025953  "
      ]
     },
     "execution_count": 54,
     "metadata": {},
     "output_type": "execute_result"
    }
   ],
   "source": [
    "train_data = pd.read_csv(\"Data/train_data_v1.csv\")\n",
    "train_data.head()"
   ]
  },
  {
   "cell_type": "code",
   "execution_count": 55,
   "id": "7bd4c2fc",
   "metadata": {},
   "outputs": [
    {
     "name": "stdout",
     "output_type": "stream",
     "text": [
      "<class 'pandas.core.frame.DataFrame'>\n",
      "RangeIndex: 553951 entries, 0 to 553950\n",
      "Data columns (total 13 columns):\n",
      " #   Column             Non-Null Count   Dtype  \n",
      "---  ------             --------------   -----  \n",
      " 0   Year               553951 non-null  int64  \n",
      " 1   Date               553951 non-null  object \n",
      " 2   Locality           553951 non-null  object \n",
      " 3   Latitude           328193 non-null  float64\n",
      " 4   Longitude          328195 non-null  float64\n",
      " 5   Address            553951 non-null  object \n",
      " 6   Estimated Value    553951 non-null  int64  \n",
      " 7   Sale Price         553951 non-null  float64\n",
      " 8   Property           553951 non-null  object \n",
      " 9   Residential        553951 non-null  object \n",
      " 10  num_rooms          553951 non-null  int64  \n",
      " 11  carpet_area        553951 non-null  int64  \n",
      " 12  property_tax_rate  553951 non-null  float64\n",
      "dtypes: float64(4), int64(4), object(5)\n",
      "memory usage: 54.9+ MB\n"
     ]
    }
   ],
   "source": [
    "train_data.info()"
   ]
  },
  {
   "cell_type": "code",
   "execution_count": 56,
   "id": "d3c5e8bc",
   "metadata": {},
   "outputs": [
    {
     "data": {
      "text/plain": [
       "Year                      0\n",
       "Date                      0\n",
       "Locality                  0\n",
       "Latitude             225758\n",
       "Longitude            225756\n",
       "Address                   0\n",
       "Estimated Value           0\n",
       "Sale Price                0\n",
       "Property                  0\n",
       "Residential               0\n",
       "num_rooms                 0\n",
       "carpet_area               0\n",
       "property_tax_rate         0\n",
       "dtype: int64"
      ]
     },
     "execution_count": 56,
     "metadata": {},
     "output_type": "execute_result"
    }
   ],
   "source": [
    "# checking null values\n",
    "train_data.isnull().sum()"
   ]
  },
  {
   "cell_type": "code",
   "execution_count": 57,
   "id": "3fcaae08",
   "metadata": {},
   "outputs": [],
   "source": [
    "# making new data frame with dropped NA values\n",
    "train_data_new = train_data.dropna(axis=0, how='any')"
   ]
  },
  {
   "cell_type": "code",
   "execution_count": 58,
   "id": "658d62bc",
   "metadata": {},
   "outputs": [
    {
     "data": {
      "text/html": [
       "<div>\n",
       "<style scoped>\n",
       "    .dataframe tbody tr th:only-of-type {\n",
       "        vertical-align: middle;\n",
       "    }\n",
       "\n",
       "    .dataframe tbody tr th {\n",
       "        vertical-align: top;\n",
       "    }\n",
       "\n",
       "    .dataframe thead th {\n",
       "        text-align: right;\n",
       "    }\n",
       "</style>\n",
       "<table border=\"1\" class=\"dataframe\">\n",
       "  <thead>\n",
       "    <tr style=\"text-align: right;\">\n",
       "      <th></th>\n",
       "      <th>Year</th>\n",
       "      <th>Date</th>\n",
       "      <th>Locality</th>\n",
       "      <th>Latitude</th>\n",
       "      <th>Longitude</th>\n",
       "      <th>Address</th>\n",
       "      <th>Estimated Value</th>\n",
       "      <th>Sale Price</th>\n",
       "      <th>Property</th>\n",
       "      <th>Residential</th>\n",
       "      <th>num_rooms</th>\n",
       "      <th>carpet_area</th>\n",
       "      <th>property_tax_rate</th>\n",
       "    </tr>\n",
       "  </thead>\n",
       "  <tbody>\n",
       "    <tr>\n",
       "      <th>0</th>\n",
       "      <td>2009</td>\n",
       "      <td>02-01-2009</td>\n",
       "      <td>Greenwich</td>\n",
       "      <td>41.0389</td>\n",
       "      <td>-73.6136</td>\n",
       "      <td>40 ETTL LN UT 24</td>\n",
       "      <td>711270</td>\n",
       "      <td>975000.0</td>\n",
       "      <td>Condo</td>\n",
       "      <td>Condominium</td>\n",
       "      <td>2</td>\n",
       "      <td>760</td>\n",
       "      <td>1.025953</td>\n",
       "    </tr>\n",
       "    <tr>\n",
       "      <th>1</th>\n",
       "      <td>2009</td>\n",
       "      <td>02-01-2009</td>\n",
       "      <td>East Hampton</td>\n",
       "      <td>41.5667</td>\n",
       "      <td>-72.5000</td>\n",
       "      <td>18 BAUER RD</td>\n",
       "      <td>119970</td>\n",
       "      <td>189900.0</td>\n",
       "      <td>Single Family</td>\n",
       "      <td>Detached House</td>\n",
       "      <td>3</td>\n",
       "      <td>921</td>\n",
       "      <td>1.025953</td>\n",
       "    </tr>\n",
       "    <tr>\n",
       "      <th>2</th>\n",
       "      <td>2009</td>\n",
       "      <td>02-01-2009</td>\n",
       "      <td>Ridgefield</td>\n",
       "      <td>41.3053</td>\n",
       "      <td>-73.5014</td>\n",
       "      <td>48 HIGH VALLEY RD.</td>\n",
       "      <td>494530</td>\n",
       "      <td>825000.0</td>\n",
       "      <td>Single Family</td>\n",
       "      <td>Detached House</td>\n",
       "      <td>3</td>\n",
       "      <td>982</td>\n",
       "      <td>1.025953</td>\n",
       "    </tr>\n",
       "    <tr>\n",
       "      <th>3</th>\n",
       "      <td>2009</td>\n",
       "      <td>02-01-2009</td>\n",
       "      <td>Old Lyme</td>\n",
       "      <td>41.3167</td>\n",
       "      <td>-72.3000</td>\n",
       "      <td>56 MERIDEN RD</td>\n",
       "      <td>197600</td>\n",
       "      <td>450000.0</td>\n",
       "      <td>Single Family</td>\n",
       "      <td>Detached House</td>\n",
       "      <td>3</td>\n",
       "      <td>976</td>\n",
       "      <td>1.025953</td>\n",
       "    </tr>\n",
       "    <tr>\n",
       "      <th>4</th>\n",
       "      <td>2009</td>\n",
       "      <td>02-01-2009</td>\n",
       "      <td>Naugatuck</td>\n",
       "      <td>41.4897</td>\n",
       "      <td>-73.0514</td>\n",
       "      <td>13 CELENTANO DR</td>\n",
       "      <td>105440</td>\n",
       "      <td>200000.0</td>\n",
       "      <td>Single Family</td>\n",
       "      <td>Detached House</td>\n",
       "      <td>3</td>\n",
       "      <td>947</td>\n",
       "      <td>1.025953</td>\n",
       "    </tr>\n",
       "  </tbody>\n",
       "</table>\n",
       "</div>"
      ],
      "text/plain": [
       "   Year        Date      Locality  Latitude  Longitude             Address   \n",
       "0  2009  02-01-2009     Greenwich   41.0389   -73.6136    40 ETTL LN UT 24  \\\n",
       "1  2009  02-01-2009  East Hampton   41.5667   -72.5000         18 BAUER RD   \n",
       "2  2009  02-01-2009    Ridgefield   41.3053   -73.5014  48 HIGH VALLEY RD.   \n",
       "3  2009  02-01-2009      Old Lyme   41.3167   -72.3000       56 MERIDEN RD   \n",
       "4  2009  02-01-2009     Naugatuck   41.4897   -73.0514     13 CELENTANO DR   \n",
       "\n",
       "   Estimated Value  Sale Price       Property     Residential  num_rooms   \n",
       "0           711270    975000.0          Condo     Condominium          2  \\\n",
       "1           119970    189900.0  Single Family  Detached House          3   \n",
       "2           494530    825000.0  Single Family  Detached House          3   \n",
       "3           197600    450000.0  Single Family  Detached House          3   \n",
       "4           105440    200000.0  Single Family  Detached House          3   \n",
       "\n",
       "   carpet_area  property_tax_rate  \n",
       "0          760           1.025953  \n",
       "1          921           1.025953  \n",
       "2          982           1.025953  \n",
       "3          976           1.025953  \n",
       "4          947           1.025953  "
      ]
     },
     "execution_count": 58,
     "metadata": {},
     "output_type": "execute_result"
    }
   ],
   "source": [
    "train_data_new.head()"
   ]
  },
  {
   "cell_type": "code",
   "execution_count": 59,
   "id": "51728d75",
   "metadata": {},
   "outputs": [
    {
     "name": "stderr",
     "output_type": "stream",
     "text": [
      "C:\\Users\\rajda\\AppData\\Local\\Temp\\ipykernel_13000\\4201873439.py:1: SettingWithCopyWarning: \n",
      "A value is trying to be set on a copy of a slice from a DataFrame.\n",
      "Try using .loc[row_indexer,col_indexer] = value instead\n",
      "\n",
      "See the caveats in the documentation: https://pandas.pydata.org/pandas-docs/stable/user_guide/indexing.html#returning-a-view-versus-a-copy\n",
      "  train_data_new[\"Latitude\"] = pd.to_numeric(train_data_new[\"Latitude\"])\n",
      "C:\\Users\\rajda\\AppData\\Local\\Temp\\ipykernel_13000\\4201873439.py:2: SettingWithCopyWarning: \n",
      "A value is trying to be set on a copy of a slice from a DataFrame.\n",
      "Try using .loc[row_indexer,col_indexer] = value instead\n",
      "\n",
      "See the caveats in the documentation: https://pandas.pydata.org/pandas-docs/stable/user_guide/indexing.html#returning-a-view-versus-a-copy\n",
      "  train_data_new[\"Longitude\"] = pd.to_numeric(train_data_new[\"Longitude\"])\n"
     ]
    }
   ],
   "source": [
    "train_data_new[\"Latitude\"] = pd.to_numeric(train_data_new[\"Latitude\"])\n",
    "train_data_new[\"Longitude\"] = pd.to_numeric(train_data_new[\"Longitude\"])"
   ]
  },
  {
   "cell_type": "code",
   "execution_count": 63,
   "id": "78204ee5",
   "metadata": {},
   "outputs": [
    {
     "name": "stderr",
     "output_type": "stream",
     "text": [
      "C:\\Users\\rajda\\AppData\\Local\\Temp\\ipykernel_13000\\496613227.py:2: SettingWithCopyWarning: \n",
      "A value is trying to be set on a copy of a slice from a DataFrame.\n",
      "Try using .loc[row_indexer,col_indexer] = value instead\n",
      "\n",
      "See the caveats in the documentation: https://pandas.pydata.org/pandas-docs/stable/user_guide/indexing.html#returning-a-view-versus-a-copy\n",
      "  train_data_new[\"Date\"] = pd.to_datetime(train_data_new[\"Date\"], format=\"%d-%m-%Y\")\n"
     ]
    }
   ],
   "source": [
    "# converting Date column to Datetime object\n",
    "train_data_new[\"Date\"] = pd.to_datetime(train_data_new[\"Date\"], format=\"%d-%m-%Y\")"
   ]
  },
  {
   "cell_type": "code",
   "execution_count": 65,
   "id": "c26d9d99",
   "metadata": {},
   "outputs": [
    {
     "name": "stdout",
     "output_type": "stream",
     "text": [
      "<class 'pandas.core.frame.DataFrame'>\n",
      "Index: 328193 entries, 0 to 553950\n",
      "Data columns (total 13 columns):\n",
      " #   Column             Non-Null Count   Dtype         \n",
      "---  ------             --------------   -----         \n",
      " 0   Year               328193 non-null  int64         \n",
      " 1   Date               328193 non-null  datetime64[ns]\n",
      " 2   Locality           328193 non-null  object        \n",
      " 3   Latitude           328193 non-null  float64       \n",
      " 4   Longitude          328193 non-null  float64       \n",
      " 5   Address            328193 non-null  object        \n",
      " 6   Estimated Value    328193 non-null  int64         \n",
      " 7   Sale Price         328193 non-null  float64       \n",
      " 8   Property           328193 non-null  object        \n",
      " 9   Residential        328193 non-null  object        \n",
      " 10  num_rooms          328193 non-null  int64         \n",
      " 11  carpet_area        328193 non-null  int64         \n",
      " 12  property_tax_rate  328193 non-null  float64       \n",
      "dtypes: datetime64[ns](1), float64(4), int64(4), object(4)\n",
      "memory usage: 35.1+ MB\n"
     ]
    }
   ],
   "source": [
    "train_data_new.info()"
   ]
  },
  {
   "cell_type": "code",
   "execution_count": 66,
   "id": "60c17be5",
   "metadata": {},
   "outputs": [
    {
     "name": "stderr",
     "output_type": "stream",
     "text": [
      "C:\\Users\\rajda\\AppData\\Local\\Temp\\ipykernel_13000\\2935639626.py:2: SettingWithCopyWarning: \n",
      "A value is trying to be set on a copy of a slice from a DataFrame.\n",
      "Try using .loc[row_indexer,col_indexer] = value instead\n",
      "\n",
      "See the caveats in the documentation: https://pandas.pydata.org/pandas-docs/stable/user_guide/indexing.html#returning-a-view-versus-a-copy\n",
      "  train_data_new[\"Day\"] =  train_data_new[\"Date\"].dt.day\n",
      "C:\\Users\\rajda\\AppData\\Local\\Temp\\ipykernel_13000\\2935639626.py:3: SettingWithCopyWarning: \n",
      "A value is trying to be set on a copy of a slice from a DataFrame.\n",
      "Try using .loc[row_indexer,col_indexer] = value instead\n",
      "\n",
      "See the caveats in the documentation: https://pandas.pydata.org/pandas-docs/stable/user_guide/indexing.html#returning-a-view-versus-a-copy\n",
      "  train_data_new[\"month\"] =  train_data_new[\"Date\"].dt.month\n",
      "C:\\Users\\rajda\\AppData\\Local\\Temp\\ipykernel_13000\\2935639626.py:4: SettingWithCopyWarning: \n",
      "A value is trying to be set on a copy of a slice from a DataFrame.\n",
      "Try using .loc[row_indexer,col_indexer] = value instead\n",
      "\n",
      "See the caveats in the documentation: https://pandas.pydata.org/pandas-docs/stable/user_guide/indexing.html#returning-a-view-versus-a-copy\n",
      "  train_data_new[\"is_weekend\"] = (train_data_new['Date'].dt.dayofweek >= 5).astype(int)\n",
      "C:\\Users\\rajda\\AppData\\Local\\Temp\\ipykernel_13000\\2935639626.py:5: SettingWithCopyWarning: \n",
      "A value is trying to be set on a copy of a slice from a DataFrame.\n",
      "Try using .loc[row_indexer,col_indexer] = value instead\n",
      "\n",
      "See the caveats in the documentation: https://pandas.pydata.org/pandas-docs/stable/user_guide/indexing.html#returning-a-view-versus-a-copy\n",
      "  train_data_new['quarter'] = train_data_new['Date'].dt.quarter\n"
     ]
    }
   ],
   "source": [
    "# spliting Date,month from Date column\n",
    "train_data_new[\"Day\"] =  train_data_new[\"Date\"].dt.day\n",
    "train_data_new[\"month\"] =  train_data_new[\"Date\"].dt.month\n",
    "train_data_new[\"is_weekend\"] = (train_data_new['Date'].dt.dayofweek >= 5).astype(int)\n",
    "train_data_new['quarter'] = train_data_new['Date'].dt.quarter"
   ]
  },
  {
   "cell_type": "code",
   "execution_count": 67,
   "id": "7147228c",
   "metadata": {},
   "outputs": [],
   "source": [
    "train_data_new = train_data_new.drop(\"Date\", axis = 1)"
   ]
  },
  {
   "cell_type": "code",
   "execution_count": 68,
   "id": "a2e94f06",
   "metadata": {},
   "outputs": [
    {
     "name": "stdout",
     "output_type": "stream",
     "text": [
      "<class 'pandas.core.frame.DataFrame'>\n",
      "Index: 328193 entries, 0 to 553950\n",
      "Data columns (total 16 columns):\n",
      " #   Column             Non-Null Count   Dtype  \n",
      "---  ------             --------------   -----  \n",
      " 0   Year               328193 non-null  int64  \n",
      " 1   Locality           328193 non-null  object \n",
      " 2   Latitude           328193 non-null  float64\n",
      " 3   Longitude          328193 non-null  float64\n",
      " 4   Address            328193 non-null  object \n",
      " 5   Estimated Value    328193 non-null  int64  \n",
      " 6   Sale Price         328193 non-null  float64\n",
      " 7   Property           328193 non-null  object \n",
      " 8   Residential        328193 non-null  object \n",
      " 9   num_rooms          328193 non-null  int64  \n",
      " 10  carpet_area        328193 non-null  int64  \n",
      " 11  property_tax_rate  328193 non-null  float64\n",
      " 12  Day                328193 non-null  int32  \n",
      " 13  month              328193 non-null  int32  \n",
      " 14  is_weekend         328193 non-null  int32  \n",
      " 15  quarter            328193 non-null  int32  \n",
      "dtypes: float64(4), int32(4), int64(4), object(4)\n",
      "memory usage: 37.6+ MB\n"
     ]
    }
   ],
   "source": [
    "train_data_new.info()"
   ]
  },
  {
   "cell_type": "code",
   "execution_count": 69,
   "id": "e0f67317",
   "metadata": {},
   "outputs": [],
   "source": [
    "#converting categorical column to numerical column\n",
    "from sklearn.preprocessing import LabelEncoder"
   ]
  },
  {
   "cell_type": "code",
   "execution_count": 70,
   "id": "756b4d01",
   "metadata": {},
   "outputs": [],
   "source": [
    "label_encode = LabelEncoder()\n",
    "train_data_new[\"Residential\"] = label_encode.fit_transform(train_data_new[\"Residential\"])"
   ]
  },
  {
   "cell_type": "code",
   "execution_count": 71,
   "id": "097f1ef4",
   "metadata": {},
   "outputs": [],
   "source": [
    "label_encode_1 = LabelEncoder()\n",
    "train_data_new[\"Property\"] = label_encode_1.fit_transform(train_data_new[\"Property\"])"
   ]
  },
  {
   "cell_type": "code",
   "execution_count": 73,
   "id": "376afe88",
   "metadata": {},
   "outputs": [],
   "source": [
    "train_data_new = train_data_new.drop([\"Locality\",\"Address\"], axis = 1)"
   ]
  },
  {
   "cell_type": "code",
   "execution_count": 74,
   "id": "bc6221b7",
   "metadata": {},
   "outputs": [
    {
     "name": "stdout",
     "output_type": "stream",
     "text": [
      "<class 'pandas.core.frame.DataFrame'>\n",
      "Index: 328193 entries, 0 to 553950\n",
      "Data columns (total 14 columns):\n",
      " #   Column             Non-Null Count   Dtype  \n",
      "---  ------             --------------   -----  \n",
      " 0   Year               328193 non-null  int64  \n",
      " 1   Latitude           328193 non-null  float64\n",
      " 2   Longitude          328193 non-null  float64\n",
      " 3   Estimated Value    328193 non-null  int64  \n",
      " 4   Sale Price         328193 non-null  float64\n",
      " 5   Property           328193 non-null  int32  \n",
      " 6   Residential        328193 non-null  int32  \n",
      " 7   num_rooms          328193 non-null  int64  \n",
      " 8   carpet_area        328193 non-null  int64  \n",
      " 9   property_tax_rate  328193 non-null  float64\n",
      " 10  Day                328193 non-null  int32  \n",
      " 11  month              328193 non-null  int32  \n",
      " 12  is_weekend         328193 non-null  int32  \n",
      " 13  quarter            328193 non-null  int32  \n",
      "dtypes: float64(4), int32(6), int64(4)\n",
      "memory usage: 30.0 MB\n"
     ]
    }
   ],
   "source": [
    "train_data_new.info()"
   ]
  },
  {
   "cell_type": "code",
   "execution_count": 75,
   "id": "1022971f",
   "metadata": {},
   "outputs": [],
   "source": [
    "from xgboost import XGBRegressor\n",
    "\n",
    "xgb_model = XGBRegressor()"
   ]
  },
  {
   "cell_type": "code",
   "execution_count": 76,
   "id": "58e7171c",
   "metadata": {},
   "outputs": [],
   "source": [
    "X = train_data_new.drop([\"Sale Price\"], axis = 1)\n",
    "y = train_data_new[\"Sale Price\"]"
   ]
  },
  {
   "cell_type": "code",
   "execution_count": 102,
   "id": "52aa3746",
   "metadata": {},
   "outputs": [
    {
     "name": "stdout",
     "output_type": "stream",
     "text": [
      "<class 'pandas.core.frame.DataFrame'>\n",
      "Index: 328193 entries, 0 to 553950\n",
      "Data columns (total 13 columns):\n",
      " #   Column             Non-Null Count   Dtype  \n",
      "---  ------             --------------   -----  \n",
      " 0   Year               328193 non-null  int64  \n",
      " 1   Latitude           328193 non-null  float64\n",
      " 2   Longitude          328193 non-null  float64\n",
      " 3   Estimated Value    328193 non-null  int64  \n",
      " 4   Property           328193 non-null  int32  \n",
      " 5   Residential        328193 non-null  int32  \n",
      " 6   num_rooms          328193 non-null  int64  \n",
      " 7   carpet_area        328193 non-null  int64  \n",
      " 8   property_tax_rate  328193 non-null  float64\n",
      " 9   Day                328193 non-null  int32  \n",
      " 10  month              328193 non-null  int32  \n",
      " 11  is_weekend         328193 non-null  int32  \n",
      " 12  quarter            328193 non-null  int32  \n",
      "dtypes: float64(3), int32(6), int64(4)\n",
      "memory usage: 27.5 MB\n"
     ]
    }
   ],
   "source": [
    "X.info()"
   ]
  },
  {
   "cell_type": "code",
   "execution_count": 77,
   "id": "de1f987c",
   "metadata": {},
   "outputs": [],
   "source": [
    "# split data to train and test\n",
    "from sklearn.model_selection import train_test_split\n",
    "X_train, X_test, y_train, y_test = train_test_split(X, y, test_size= 0.3, random_state=42)"
   ]
  },
  {
   "cell_type": "code",
   "execution_count": 78,
   "id": "ee5cfc3d",
   "metadata": {},
   "outputs": [
    {
     "data": {
      "text/plain": [
       "((229735, 13), (98458, 13))"
      ]
     },
     "execution_count": 78,
     "metadata": {},
     "output_type": "execute_result"
    }
   ],
   "source": [
    "X_train.shape,X_test.shape"
   ]
  },
  {
   "cell_type": "code",
   "execution_count": 79,
   "id": "b1eecda1",
   "metadata": {},
   "outputs": [
    {
     "data": {
      "text/plain": [
       "((229735,), (98458,))"
      ]
     },
     "execution_count": 79,
     "metadata": {},
     "output_type": "execute_result"
    }
   ],
   "source": [
    "y_train.shape, y_test.shape"
   ]
  },
  {
   "cell_type": "code",
   "execution_count": 80,
   "id": "b5b57aaf",
   "metadata": {},
   "outputs": [
    {
     "data": {
      "text/html": [
       "<style>#sk-container-id-1 {color: black;background-color: white;}#sk-container-id-1 pre{padding: 0;}#sk-container-id-1 div.sk-toggleable {background-color: white;}#sk-container-id-1 label.sk-toggleable__label {cursor: pointer;display: block;width: 100%;margin-bottom: 0;padding: 0.3em;box-sizing: border-box;text-align: center;}#sk-container-id-1 label.sk-toggleable__label-arrow:before {content: \"▸\";float: left;margin-right: 0.25em;color: #696969;}#sk-container-id-1 label.sk-toggleable__label-arrow:hover:before {color: black;}#sk-container-id-1 div.sk-estimator:hover label.sk-toggleable__label-arrow:before {color: black;}#sk-container-id-1 div.sk-toggleable__content {max-height: 0;max-width: 0;overflow: hidden;text-align: left;background-color: #f0f8ff;}#sk-container-id-1 div.sk-toggleable__content pre {margin: 0.2em;color: black;border-radius: 0.25em;background-color: #f0f8ff;}#sk-container-id-1 input.sk-toggleable__control:checked~div.sk-toggleable__content {max-height: 200px;max-width: 100%;overflow: auto;}#sk-container-id-1 input.sk-toggleable__control:checked~label.sk-toggleable__label-arrow:before {content: \"▾\";}#sk-container-id-1 div.sk-estimator input.sk-toggleable__control:checked~label.sk-toggleable__label {background-color: #d4ebff;}#sk-container-id-1 div.sk-label input.sk-toggleable__control:checked~label.sk-toggleable__label {background-color: #d4ebff;}#sk-container-id-1 input.sk-hidden--visually {border: 0;clip: rect(1px 1px 1px 1px);clip: rect(1px, 1px, 1px, 1px);height: 1px;margin: -1px;overflow: hidden;padding: 0;position: absolute;width: 1px;}#sk-container-id-1 div.sk-estimator {font-family: monospace;background-color: #f0f8ff;border: 1px dotted black;border-radius: 0.25em;box-sizing: border-box;margin-bottom: 0.5em;}#sk-container-id-1 div.sk-estimator:hover {background-color: #d4ebff;}#sk-container-id-1 div.sk-parallel-item::after {content: \"\";width: 100%;border-bottom: 1px solid gray;flex-grow: 1;}#sk-container-id-1 div.sk-label:hover label.sk-toggleable__label {background-color: #d4ebff;}#sk-container-id-1 div.sk-serial::before {content: \"\";position: absolute;border-left: 1px solid gray;box-sizing: border-box;top: 0;bottom: 0;left: 50%;z-index: 0;}#sk-container-id-1 div.sk-serial {display: flex;flex-direction: column;align-items: center;background-color: white;padding-right: 0.2em;padding-left: 0.2em;position: relative;}#sk-container-id-1 div.sk-item {position: relative;z-index: 1;}#sk-container-id-1 div.sk-parallel {display: flex;align-items: stretch;justify-content: center;background-color: white;position: relative;}#sk-container-id-1 div.sk-item::before, #sk-container-id-1 div.sk-parallel-item::before {content: \"\";position: absolute;border-left: 1px solid gray;box-sizing: border-box;top: 0;bottom: 0;left: 50%;z-index: -1;}#sk-container-id-1 div.sk-parallel-item {display: flex;flex-direction: column;z-index: 1;position: relative;background-color: white;}#sk-container-id-1 div.sk-parallel-item:first-child::after {align-self: flex-end;width: 50%;}#sk-container-id-1 div.sk-parallel-item:last-child::after {align-self: flex-start;width: 50%;}#sk-container-id-1 div.sk-parallel-item:only-child::after {width: 0;}#sk-container-id-1 div.sk-dashed-wrapped {border: 1px dashed gray;margin: 0 0.4em 0.5em 0.4em;box-sizing: border-box;padding-bottom: 0.4em;background-color: white;}#sk-container-id-1 div.sk-label label {font-family: monospace;font-weight: bold;display: inline-block;line-height: 1.2em;}#sk-container-id-1 div.sk-label-container {text-align: center;}#sk-container-id-1 div.sk-container {/* jupyter's `normalize.less` sets `[hidden] { display: none; }` but bootstrap.min.css set `[hidden] { display: none !important; }` so we also need the `!important` here to be able to override the default hidden behavior on the sphinx rendered scikit-learn.org. See: https://github.com/scikit-learn/scikit-learn/issues/21755 */display: inline-block !important;position: relative;}#sk-container-id-1 div.sk-text-repr-fallback {display: none;}</style><div id=\"sk-container-id-1\" class=\"sk-top-container\"><div class=\"sk-text-repr-fallback\"><pre>XGBRegressor(base_score=None, booster=None, callbacks=None,\n",
       "             colsample_bylevel=None, colsample_bynode=None,\n",
       "             colsample_bytree=None, early_stopping_rounds=None,\n",
       "             enable_categorical=False, eval_metric=None, feature_types=None,\n",
       "             gamma=None, gpu_id=None, grow_policy=None, importance_type=None,\n",
       "             interaction_constraints=None, learning_rate=None, max_bin=None,\n",
       "             max_cat_threshold=None, max_cat_to_onehot=None,\n",
       "             max_delta_step=None, max_depth=None, max_leaves=None,\n",
       "             min_child_weight=None, missing=nan, monotone_constraints=None,\n",
       "             n_estimators=100, n_jobs=None, num_parallel_tree=None,\n",
       "             predictor=None, random_state=None, ...)</pre><b>In a Jupyter environment, please rerun this cell to show the HTML representation or trust the notebook. <br />On GitHub, the HTML representation is unable to render, please try loading this page with nbviewer.org.</b></div><div class=\"sk-container\" hidden><div class=\"sk-item\"><div class=\"sk-estimator sk-toggleable\"><input class=\"sk-toggleable__control sk-hidden--visually\" id=\"sk-estimator-id-1\" type=\"checkbox\" checked><label for=\"sk-estimator-id-1\" class=\"sk-toggleable__label sk-toggleable__label-arrow\">XGBRegressor</label><div class=\"sk-toggleable__content\"><pre>XGBRegressor(base_score=None, booster=None, callbacks=None,\n",
       "             colsample_bylevel=None, colsample_bynode=None,\n",
       "             colsample_bytree=None, early_stopping_rounds=None,\n",
       "             enable_categorical=False, eval_metric=None, feature_types=None,\n",
       "             gamma=None, gpu_id=None, grow_policy=None, importance_type=None,\n",
       "             interaction_constraints=None, learning_rate=None, max_bin=None,\n",
       "             max_cat_threshold=None, max_cat_to_onehot=None,\n",
       "             max_delta_step=None, max_depth=None, max_leaves=None,\n",
       "             min_child_weight=None, missing=nan, monotone_constraints=None,\n",
       "             n_estimators=100, n_jobs=None, num_parallel_tree=None,\n",
       "             predictor=None, random_state=None, ...)</pre></div></div></div></div></div>"
      ],
      "text/plain": [
       "XGBRegressor(base_score=None, booster=None, callbacks=None,\n",
       "             colsample_bylevel=None, colsample_bynode=None,\n",
       "             colsample_bytree=None, early_stopping_rounds=None,\n",
       "             enable_categorical=False, eval_metric=None, feature_types=None,\n",
       "             gamma=None, gpu_id=None, grow_policy=None, importance_type=None,\n",
       "             interaction_constraints=None, learning_rate=None, max_bin=None,\n",
       "             max_cat_threshold=None, max_cat_to_onehot=None,\n",
       "             max_delta_step=None, max_depth=None, max_leaves=None,\n",
       "             min_child_weight=None, missing=nan, monotone_constraints=None,\n",
       "             n_estimators=100, n_jobs=None, num_parallel_tree=None,\n",
       "             predictor=None, random_state=None, ...)"
      ]
     },
     "execution_count": 80,
     "metadata": {},
     "output_type": "execute_result"
    }
   ],
   "source": [
    "xgb_model.fit(X_train, y_train)"
   ]
  },
  {
   "cell_type": "code",
   "execution_count": 82,
   "id": "5133dcd6",
   "metadata": {},
   "outputs": [],
   "source": [
    "y_pred = xgb_model.predict(X_test)"
   ]
  },
  {
   "cell_type": "code",
   "execution_count": 83,
   "id": "fec2e37c",
   "metadata": {},
   "outputs": [
    {
     "data": {
      "text/plain": [
       "92270.08509884156"
      ]
     },
     "execution_count": 83,
     "metadata": {},
     "output_type": "execute_result"
    }
   ],
   "source": [
    "# evaltuing performance\n",
    "from sklearn.metrics import mean_squared_error,mean_absolute_error\n",
    "\n",
    "mean_absolute_error(y_test, y_pred)"
   ]
  },
  {
   "cell_type": "code",
   "execution_count": 84,
   "id": "ec42aa49",
   "metadata": {},
   "outputs": [],
   "source": [
    "from sklearn.linear_model import LinearRegression, Ridge, Lasso\n",
    "from sklearn.tree import DecisionTreeRegressor\n",
    "from sklearn.metrics import mean_squared_error, mean_absolute_error, r2_score\n",
    "from sklearn.ensemble import RandomForestRegressor, AdaBoostRegressor\n",
    "import xgboost as xgb\n",
    "import lightgbm as lgb\n",
    "import catboost as cb"
   ]
  },
  {
   "cell_type": "code",
   "execution_count": 85,
   "id": "befca3bf",
   "metadata": {},
   "outputs": [],
   "source": [
    "def train(X, y):\n",
    "    \"\"\"\n",
    "    Trains different regression models, evaluates their performance on test data,\n",
    "    and stores the resulting metrics in a pandas DataFrame.\n",
    "    :param X: pandas DataFrame containing the features\n",
    "    :param y: pandas Series containing the target variable\n",
    "    :return: pandas DataFrame containing the model names and corresponding metrics\n",
    "    \"\"\"\n",
    "    # Split the data into training and testing sets\n",
    "    X_train, X_test, y_train, y_test = train_test_split(X, y, test_size=0.2, random_state=42)\n",
    "\n",
    "    # Define the regression models to be trained\n",
    "    models = [\n",
    "        LinearRegression(),\n",
    "        Ridge(),\n",
    "        Lasso(),\n",
    "        DecisionTreeRegressor(),\n",
    "        RandomForestRegressor(),\n",
    "        AdaBoostRegressor(),\n",
    "        xgb.XGBRegressor(),\n",
    "        lgb.LGBMRegressor(),\n",
    "        cb.CatBoostRegressor(silent=True)\n",
    "    ]\n",
    "\n",
    "    # Train the regression models and evaluate their performance on test data\n",
    "    results = []\n",
    "    for model in models:\n",
    "        model.fit(X_train, y_train)\n",
    "        y_pred = model.predict(X_test)\n",
    "        rmse = np.sqrt(mean_squared_error(y_test, y_pred))\n",
    "        mae = mean_absolute_error(y_test, y_pred)\n",
    "        r2 = r2_score(y_test, y_pred)\n",
    "        results.append(pd.DataFrame({'Model': [type(model).__name__], 'RMSE': [rmse], 'MAE': [mae], 'R2': [r2]}))\n",
    "\n",
    "    return pd.concat(results, ignore_index=True)"
   ]
  },
  {
   "cell_type": "code",
   "execution_count": 86,
   "id": "b74873fd",
   "metadata": {},
   "outputs": [
    {
     "data": {
      "text/html": [
       "<div>\n",
       "<style scoped>\n",
       "    .dataframe tbody tr th:only-of-type {\n",
       "        vertical-align: middle;\n",
       "    }\n",
       "\n",
       "    .dataframe tbody tr th {\n",
       "        vertical-align: top;\n",
       "    }\n",
       "\n",
       "    .dataframe thead th {\n",
       "        text-align: right;\n",
       "    }\n",
       "</style>\n",
       "<table border=\"1\" class=\"dataframe\">\n",
       "  <thead>\n",
       "    <tr style=\"text-align: right;\">\n",
       "      <th></th>\n",
       "      <th>Model</th>\n",
       "      <th>RMSE</th>\n",
       "      <th>MAE</th>\n",
       "      <th>R2</th>\n",
       "    </tr>\n",
       "  </thead>\n",
       "  <tbody>\n",
       "    <tr>\n",
       "      <th>0</th>\n",
       "      <td>LinearRegression</td>\n",
       "      <td>877915.132677</td>\n",
       "      <td>282054.273490</td>\n",
       "      <td>0.073164</td>\n",
       "    </tr>\n",
       "    <tr>\n",
       "      <th>1</th>\n",
       "      <td>Ridge</td>\n",
       "      <td>877915.056426</td>\n",
       "      <td>282053.915612</td>\n",
       "      <td>0.073164</td>\n",
       "    </tr>\n",
       "    <tr>\n",
       "      <th>2</th>\n",
       "      <td>Lasso</td>\n",
       "      <td>877915.015098</td>\n",
       "      <td>282053.695195</td>\n",
       "      <td>0.073164</td>\n",
       "    </tr>\n",
       "    <tr>\n",
       "      <th>3</th>\n",
       "      <td>DecisionTreeRegressor</td>\n",
       "      <td>647323.045063</td>\n",
       "      <td>128417.564146</td>\n",
       "      <td>0.496105</td>\n",
       "    </tr>\n",
       "    <tr>\n",
       "      <th>4</th>\n",
       "      <td>RandomForestRegressor</td>\n",
       "      <td>565443.804397</td>\n",
       "      <td>89692.268740</td>\n",
       "      <td>0.615517</td>\n",
       "    </tr>\n",
       "    <tr>\n",
       "      <th>5</th>\n",
       "      <td>AdaBoostRegressor</td>\n",
       "      <td>879838.782178</td>\n",
       "      <td>476609.260804</td>\n",
       "      <td>0.069098</td>\n",
       "    </tr>\n",
       "    <tr>\n",
       "      <th>6</th>\n",
       "      <td>XGBRegressor</td>\n",
       "      <td>558746.301043</td>\n",
       "      <td>91177.188775</td>\n",
       "      <td>0.624572</td>\n",
       "    </tr>\n",
       "    <tr>\n",
       "      <th>7</th>\n",
       "      <td>LGBMRegressor</td>\n",
       "      <td>624974.719721</td>\n",
       "      <td>95531.059588</td>\n",
       "      <td>0.530298</td>\n",
       "    </tr>\n",
       "    <tr>\n",
       "      <th>8</th>\n",
       "      <td>CatBoostRegressor</td>\n",
       "      <td>628817.774544</td>\n",
       "      <td>94398.549634</td>\n",
       "      <td>0.524503</td>\n",
       "    </tr>\n",
       "  </tbody>\n",
       "</table>\n",
       "</div>"
      ],
      "text/plain": [
       "                   Model           RMSE            MAE        R2\n",
       "0       LinearRegression  877915.132677  282054.273490  0.073164\n",
       "1                  Ridge  877915.056426  282053.915612  0.073164\n",
       "2                  Lasso  877915.015098  282053.695195  0.073164\n",
       "3  DecisionTreeRegressor  647323.045063  128417.564146  0.496105\n",
       "4  RandomForestRegressor  565443.804397   89692.268740  0.615517\n",
       "5      AdaBoostRegressor  879838.782178  476609.260804  0.069098\n",
       "6           XGBRegressor  558746.301043   91177.188775  0.624572\n",
       "7          LGBMRegressor  624974.719721   95531.059588  0.530298\n",
       "8      CatBoostRegressor  628817.774544   94398.549634  0.524503"
      ]
     },
     "execution_count": 86,
     "metadata": {},
     "output_type": "execute_result"
    }
   ],
   "source": [
    "results = train(X,y)\n",
    "results"
   ]
  },
  {
   "cell_type": "markdown",
   "id": "dbd8b66d",
   "metadata": {},
   "source": [
    "# Creating Cluster"
   ]
  },
  {
   "cell_type": "code",
   "execution_count": 87,
   "id": "a736114e",
   "metadata": {},
   "outputs": [
    {
     "name": "stdout",
     "output_type": "stream",
     "text": [
      "<class 'pandas.core.frame.DataFrame'>\n",
      "Index: 328193 entries, 0 to 553950\n",
      "Data columns (total 14 columns):\n",
      " #   Column             Non-Null Count   Dtype  \n",
      "---  ------             --------------   -----  \n",
      " 0   Year               328193 non-null  int64  \n",
      " 1   Latitude           328193 non-null  float64\n",
      " 2   Longitude          328193 non-null  float64\n",
      " 3   Estimated Value    328193 non-null  int64  \n",
      " 4   Sale Price         328193 non-null  float64\n",
      " 5   Property           328193 non-null  int32  \n",
      " 6   Residential        328193 non-null  int32  \n",
      " 7   num_rooms          328193 non-null  int64  \n",
      " 8   carpet_area        328193 non-null  int64  \n",
      " 9   property_tax_rate  328193 non-null  float64\n",
      " 10  Day                328193 non-null  int32  \n",
      " 11  month              328193 non-null  int32  \n",
      " 12  is_weekend         328193 non-null  int32  \n",
      " 13  quarter            328193 non-null  int32  \n",
      "dtypes: float64(4), int32(6), int64(4)\n",
      "memory usage: 30.0 MB\n"
     ]
    }
   ],
   "source": [
    "train_data_new.info()"
   ]
  },
  {
   "cell_type": "code",
   "execution_count": 88,
   "id": "cf59f0c9",
   "metadata": {},
   "outputs": [
    {
     "name": "stderr",
     "output_type": "stream",
     "text": [
      "C:\\ProgramData\\Anaconda3\\lib\\site-packages\\sklearn\\cluster\\_kmeans.py:870: FutureWarning: The default value of `n_init` will change from 10 to 'auto' in 1.4. Set the value of `n_init` explicitly to suppress the warning\n",
      "  warnings.warn(\n"
     ]
    },
    {
     "data": {
      "text/html": [
       "<style>#sk-container-id-2 {color: black;background-color: white;}#sk-container-id-2 pre{padding: 0;}#sk-container-id-2 div.sk-toggleable {background-color: white;}#sk-container-id-2 label.sk-toggleable__label {cursor: pointer;display: block;width: 100%;margin-bottom: 0;padding: 0.3em;box-sizing: border-box;text-align: center;}#sk-container-id-2 label.sk-toggleable__label-arrow:before {content: \"▸\";float: left;margin-right: 0.25em;color: #696969;}#sk-container-id-2 label.sk-toggleable__label-arrow:hover:before {color: black;}#sk-container-id-2 div.sk-estimator:hover label.sk-toggleable__label-arrow:before {color: black;}#sk-container-id-2 div.sk-toggleable__content {max-height: 0;max-width: 0;overflow: hidden;text-align: left;background-color: #f0f8ff;}#sk-container-id-2 div.sk-toggleable__content pre {margin: 0.2em;color: black;border-radius: 0.25em;background-color: #f0f8ff;}#sk-container-id-2 input.sk-toggleable__control:checked~div.sk-toggleable__content {max-height: 200px;max-width: 100%;overflow: auto;}#sk-container-id-2 input.sk-toggleable__control:checked~label.sk-toggleable__label-arrow:before {content: \"▾\";}#sk-container-id-2 div.sk-estimator input.sk-toggleable__control:checked~label.sk-toggleable__label {background-color: #d4ebff;}#sk-container-id-2 div.sk-label input.sk-toggleable__control:checked~label.sk-toggleable__label {background-color: #d4ebff;}#sk-container-id-2 input.sk-hidden--visually {border: 0;clip: rect(1px 1px 1px 1px);clip: rect(1px, 1px, 1px, 1px);height: 1px;margin: -1px;overflow: hidden;padding: 0;position: absolute;width: 1px;}#sk-container-id-2 div.sk-estimator {font-family: monospace;background-color: #f0f8ff;border: 1px dotted black;border-radius: 0.25em;box-sizing: border-box;margin-bottom: 0.5em;}#sk-container-id-2 div.sk-estimator:hover {background-color: #d4ebff;}#sk-container-id-2 div.sk-parallel-item::after {content: \"\";width: 100%;border-bottom: 1px solid gray;flex-grow: 1;}#sk-container-id-2 div.sk-label:hover label.sk-toggleable__label {background-color: #d4ebff;}#sk-container-id-2 div.sk-serial::before {content: \"\";position: absolute;border-left: 1px solid gray;box-sizing: border-box;top: 0;bottom: 0;left: 50%;z-index: 0;}#sk-container-id-2 div.sk-serial {display: flex;flex-direction: column;align-items: center;background-color: white;padding-right: 0.2em;padding-left: 0.2em;position: relative;}#sk-container-id-2 div.sk-item {position: relative;z-index: 1;}#sk-container-id-2 div.sk-parallel {display: flex;align-items: stretch;justify-content: center;background-color: white;position: relative;}#sk-container-id-2 div.sk-item::before, #sk-container-id-2 div.sk-parallel-item::before {content: \"\";position: absolute;border-left: 1px solid gray;box-sizing: border-box;top: 0;bottom: 0;left: 50%;z-index: -1;}#sk-container-id-2 div.sk-parallel-item {display: flex;flex-direction: column;z-index: 1;position: relative;background-color: white;}#sk-container-id-2 div.sk-parallel-item:first-child::after {align-self: flex-end;width: 50%;}#sk-container-id-2 div.sk-parallel-item:last-child::after {align-self: flex-start;width: 50%;}#sk-container-id-2 div.sk-parallel-item:only-child::after {width: 0;}#sk-container-id-2 div.sk-dashed-wrapped {border: 1px dashed gray;margin: 0 0.4em 0.5em 0.4em;box-sizing: border-box;padding-bottom: 0.4em;background-color: white;}#sk-container-id-2 div.sk-label label {font-family: monospace;font-weight: bold;display: inline-block;line-height: 1.2em;}#sk-container-id-2 div.sk-label-container {text-align: center;}#sk-container-id-2 div.sk-container {/* jupyter's `normalize.less` sets `[hidden] { display: none; }` but bootstrap.min.css set `[hidden] { display: none !important; }` so we also need the `!important` here to be able to override the default hidden behavior on the sphinx rendered scikit-learn.org. See: https://github.com/scikit-learn/scikit-learn/issues/21755 */display: inline-block !important;position: relative;}#sk-container-id-2 div.sk-text-repr-fallback {display: none;}</style><div id=\"sk-container-id-2\" class=\"sk-top-container\"><div class=\"sk-text-repr-fallback\"><pre>KMeans(n_clusters=4, random_state=42)</pre><b>In a Jupyter environment, please rerun this cell to show the HTML representation or trust the notebook. <br />On GitHub, the HTML representation is unable to render, please try loading this page with nbviewer.org.</b></div><div class=\"sk-container\" hidden><div class=\"sk-item\"><div class=\"sk-estimator sk-toggleable\"><input class=\"sk-toggleable__control sk-hidden--visually\" id=\"sk-estimator-id-2\" type=\"checkbox\" checked><label for=\"sk-estimator-id-2\" class=\"sk-toggleable__label sk-toggleable__label-arrow\">KMeans</label><div class=\"sk-toggleable__content\"><pre>KMeans(n_clusters=4, random_state=42)</pre></div></div></div></div></div>"
      ],
      "text/plain": [
       "KMeans(n_clusters=4, random_state=42)"
      ]
     },
     "execution_count": 88,
     "metadata": {},
     "output_type": "execute_result"
    }
   ],
   "source": [
    "from sklearn.cluster import KMeans\n",
    "\n",
    "#X_cluster_data = train_data_new.drop([\"Locality\",\"Address\"], axis = 1)\n",
    "\n",
    "# Train the KMeans clustering model with 4 clusters\n",
    "kmeans = KMeans(n_clusters=4, random_state=42)\n",
    "kmeans.fit(train_data_new)"
   ]
  },
  {
   "cell_type": "code",
   "execution_count": 89,
   "id": "2bb63e82",
   "metadata": {},
   "outputs": [],
   "source": [
    "# Assign the predicted cluster labels to each row in the dataframe\n",
    "train_data_new['segment'] = kmeans.predict(train_data_new)"
   ]
  },
  {
   "cell_type": "code",
   "execution_count": 90,
   "id": "aedb5bfc",
   "metadata": {},
   "outputs": [
    {
     "data": {
      "text/plain": [
       "segment\n",
       "2    314003\n",
       "0     13415\n",
       "3       774\n",
       "1         1\n",
       "Name: count, dtype: int64"
      ]
     },
     "execution_count": 90,
     "metadata": {},
     "output_type": "execute_result"
    }
   ],
   "source": [
    "train_data_new[\"segment\"].value_counts()"
   ]
  },
  {
   "cell_type": "markdown",
   "id": "a280235b",
   "metadata": {},
   "source": [
    "# Test Data"
   ]
  },
  {
   "cell_type": "code",
   "execution_count": 106,
   "id": "c7e50e30",
   "metadata": {},
   "outputs": [
    {
     "data": {
      "text/html": [
       "<div>\n",
       "<style scoped>\n",
       "    .dataframe tbody tr th:only-of-type {\n",
       "        vertical-align: middle;\n",
       "    }\n",
       "\n",
       "    .dataframe tbody tr th {\n",
       "        vertical-align: top;\n",
       "    }\n",
       "\n",
       "    .dataframe thead th {\n",
       "        text-align: right;\n",
       "    }\n",
       "</style>\n",
       "<table border=\"1\" class=\"dataframe\">\n",
       "  <thead>\n",
       "    <tr style=\"text-align: right;\">\n",
       "      <th></th>\n",
       "      <th>Year</th>\n",
       "      <th>Date</th>\n",
       "      <th>Locality</th>\n",
       "      <th>Latitude</th>\n",
       "      <th>Longitude</th>\n",
       "      <th>Address</th>\n",
       "      <th>Estimated Value</th>\n",
       "      <th>Sale Price</th>\n",
       "      <th>Property</th>\n",
       "      <th>Residential</th>\n",
       "      <th>num_rooms</th>\n",
       "      <th>carpet_area</th>\n",
       "      <th>property_tax_rate</th>\n",
       "      <th>Segment</th>\n",
       "    </tr>\n",
       "  </thead>\n",
       "  <tbody>\n",
       "    <tr>\n",
       "      <th>0</th>\n",
       "      <td>2023</td>\n",
       "      <td>01-01-2023</td>\n",
       "      <td>Old Lyme</td>\n",
       "      <td>41.3167</td>\n",
       "      <td>-72.3000</td>\n",
       "      <td>12 SWAN AVE</td>\n",
       "      <td>151400</td>\n",
       "      <td>0</td>\n",
       "      <td>Residential</td>\n",
       "      <td>Detached House</td>\n",
       "      <td>3</td>\n",
       "      <td>947</td>\n",
       "      <td>1.46</td>\n",
       "      <td>0</td>\n",
       "    </tr>\n",
       "    <tr>\n",
       "      <th>1</th>\n",
       "      <td>2023</td>\n",
       "      <td>01-01-2023</td>\n",
       "      <td>Ridgefield</td>\n",
       "      <td>41.3053</td>\n",
       "      <td>-73.5014</td>\n",
       "      <td>59 LINCOLN LANE</td>\n",
       "      <td>686900</td>\n",
       "      <td>0</td>\n",
       "      <td>Residential</td>\n",
       "      <td>Detached House</td>\n",
       "      <td>3</td>\n",
       "      <td>1051</td>\n",
       "      <td>1.46</td>\n",
       "      <td>0</td>\n",
       "    </tr>\n",
       "    <tr>\n",
       "      <th>2</th>\n",
       "      <td>2023</td>\n",
       "      <td>04-01-2023</td>\n",
       "      <td>Cromwell</td>\n",
       "      <td>41.6097</td>\n",
       "      <td>-72.6631</td>\n",
       "      <td>6 GROVE RD</td>\n",
       "      <td>152030</td>\n",
       "      <td>0</td>\n",
       "      <td>Residential</td>\n",
       "      <td>Detached House</td>\n",
       "      <td>3</td>\n",
       "      <td>925</td>\n",
       "      <td>1.46</td>\n",
       "      <td>0</td>\n",
       "    </tr>\n",
       "    <tr>\n",
       "      <th>3</th>\n",
       "      <td>2023</td>\n",
       "      <td>04-01-2023</td>\n",
       "      <td>New Haven</td>\n",
       "      <td>41.3100</td>\n",
       "      <td>-72.9236</td>\n",
       "      <td>346 CONCORD ST</td>\n",
       "      <td>156130</td>\n",
       "      <td>0</td>\n",
       "      <td>Residential</td>\n",
       "      <td>Duplex</td>\n",
       "      <td>4</td>\n",
       "      <td>1210</td>\n",
       "      <td>1.46</td>\n",
       "      <td>0</td>\n",
       "    </tr>\n",
       "    <tr>\n",
       "      <th>4</th>\n",
       "      <td>2023</td>\n",
       "      <td>04-01-2023</td>\n",
       "      <td>Beacon Falls</td>\n",
       "      <td>41.4386</td>\n",
       "      <td>-73.0556</td>\n",
       "      <td>14 LASKY ROAD</td>\n",
       "      <td>108970</td>\n",
       "      <td>0</td>\n",
       "      <td>Residential</td>\n",
       "      <td>Detached House</td>\n",
       "      <td>3</td>\n",
       "      <td>1089</td>\n",
       "      <td>1.46</td>\n",
       "      <td>0</td>\n",
       "    </tr>\n",
       "  </tbody>\n",
       "</table>\n",
       "</div>"
      ],
      "text/plain": [
       "   Year        Date      Locality  Latitude  Longitude          Address   \n",
       "0  2023  01-01-2023      Old Lyme   41.3167   -72.3000      12 SWAN AVE  \\\n",
       "1  2023  01-01-2023    Ridgefield   41.3053   -73.5014  59 LINCOLN LANE   \n",
       "2  2023  04-01-2023      Cromwell   41.6097   -72.6631       6 GROVE RD   \n",
       "3  2023  04-01-2023     New Haven   41.3100   -72.9236   346 CONCORD ST   \n",
       "4  2023  04-01-2023  Beacon Falls   41.4386   -73.0556    14 LASKY ROAD   \n",
       "\n",
       "   Estimated Value  Sale Price     Property     Residential  num_rooms   \n",
       "0           151400           0  Residential  Detached House          3  \\\n",
       "1           686900           0  Residential  Detached House          3   \n",
       "2           152030           0  Residential  Detached House          3   \n",
       "3           156130           0  Residential          Duplex          4   \n",
       "4           108970           0  Residential  Detached House          3   \n",
       "\n",
       "   carpet_area  property_tax_rate  Segment  \n",
       "0          947               1.46        0  \n",
       "1         1051               1.46        0  \n",
       "2          925               1.46        0  \n",
       "3         1210               1.46        0  \n",
       "4         1089               1.46        0  "
      ]
     },
     "execution_count": 106,
     "metadata": {},
     "output_type": "execute_result"
    }
   ],
   "source": [
    "test_data = pd.read_csv(\"Data/test.csv\")\n",
    "test_data.head()"
   ]
  },
  {
   "cell_type": "code",
   "execution_count": 107,
   "id": "d32cc75e",
   "metadata": {
    "scrolled": true
   },
   "outputs": [],
   "source": [
    "#test_data[\"Residential\"] = label_encode.transform(test_data[\"Residential\"])\n",
    "test_data[\"Property\"] = label_encode_1.transform(test_data[\"Property\"])"
   ]
  },
  {
   "cell_type": "code",
   "execution_count": 108,
   "id": "63a38494",
   "metadata": {},
   "outputs": [],
   "source": [
    "test_data[\"Residential\"] = label_encode.transform(test_data[\"Residential\"])"
   ]
  },
  {
   "cell_type": "code",
   "execution_count": 109,
   "id": "a1f200e4",
   "metadata": {},
   "outputs": [
    {
     "name": "stdout",
     "output_type": "stream",
     "text": [
      "<class 'pandas.core.frame.DataFrame'>\n",
      "RangeIndex: 43954 entries, 0 to 43953\n",
      "Data columns (total 14 columns):\n",
      " #   Column             Non-Null Count  Dtype  \n",
      "---  ------             --------------  -----  \n",
      " 0   Year               43954 non-null  int64  \n",
      " 1   Date               43954 non-null  object \n",
      " 2   Locality           43954 non-null  object \n",
      " 3   Latitude           43954 non-null  float64\n",
      " 4   Longitude          43954 non-null  float64\n",
      " 5   Address            43954 non-null  object \n",
      " 6   Estimated Value    43954 non-null  int64  \n",
      " 7   Sale Price         43954 non-null  int64  \n",
      " 8   Property           43954 non-null  int32  \n",
      " 9   Residential        43954 non-null  int32  \n",
      " 10  num_rooms          43954 non-null  int64  \n",
      " 11  carpet_area        43954 non-null  int64  \n",
      " 12  property_tax_rate  43954 non-null  float64\n",
      " 13  Segment            43954 non-null  int64  \n",
      "dtypes: float64(3), int32(2), int64(6), object(3)\n",
      "memory usage: 4.4+ MB\n"
     ]
    }
   ],
   "source": [
    "test_data.info()"
   ]
  },
  {
   "cell_type": "code",
   "execution_count": 110,
   "id": "b8d0ec9e",
   "metadata": {},
   "outputs": [],
   "source": [
    "# converting Date column to Datetime object\n",
    "test_data[\"Date\"] = pd.to_datetime(test_data[\"Date\"], format=\"%d-%m-%Y\")\n",
    "\n",
    "# spliting Date,month from Date column\n",
    "test_data[\"Day\"] =  test_data[\"Date\"].dt.day\n",
    "test_data[\"month\"] =  test_data[\"Date\"].dt.month\n",
    "test_data[\"is_weekend\"] = (test_data['Date'].dt.dayofweek >= 5).astype(int)\n",
    "test_data['quarter'] = test_data['Date'].dt.quarter\n",
    "\n",
    "test_data_new = test_data.drop(\"Date\", axis = 1)"
   ]
  },
  {
   "cell_type": "code",
   "execution_count": 111,
   "id": "c499d488",
   "metadata": {},
   "outputs": [],
   "source": [
    "test_data_new =test_data_new.drop([\"Locality\",\"Address\"], axis = 1)"
   ]
  },
  {
   "cell_type": "code",
   "execution_count": 112,
   "id": "9a2d824f",
   "metadata": {},
   "outputs": [],
   "source": [
    "test_data_new =test_data_new.drop([\"Segment\"], axis = 1)"
   ]
  },
  {
   "cell_type": "code",
   "execution_count": 113,
   "id": "51701260",
   "metadata": {},
   "outputs": [],
   "source": [
    "test_data_new =test_data_new.drop([\"Sale Price\"], axis = 1)"
   ]
  },
  {
   "cell_type": "code",
   "execution_count": 114,
   "id": "53d274a8",
   "metadata": {},
   "outputs": [],
   "source": [
    "y_pred = xgb_model.predict(test_data_new)"
   ]
  },
  {
   "cell_type": "code",
   "execution_count": 115,
   "id": "683a4d1b",
   "metadata": {},
   "outputs": [],
   "source": [
    "test_data_new[\"Sale Price\"] = y_pred"
   ]
  },
  {
   "cell_type": "code",
   "execution_count": 116,
   "id": "c5e0bfbc",
   "metadata": {},
   "outputs": [
    {
     "data": {
      "text/html": [
       "<div>\n",
       "<style scoped>\n",
       "    .dataframe tbody tr th:only-of-type {\n",
       "        vertical-align: middle;\n",
       "    }\n",
       "\n",
       "    .dataframe tbody tr th {\n",
       "        vertical-align: top;\n",
       "    }\n",
       "\n",
       "    .dataframe thead th {\n",
       "        text-align: right;\n",
       "    }\n",
       "</style>\n",
       "<table border=\"1\" class=\"dataframe\">\n",
       "  <thead>\n",
       "    <tr style=\"text-align: right;\">\n",
       "      <th></th>\n",
       "      <th>Year</th>\n",
       "      <th>Latitude</th>\n",
       "      <th>Longitude</th>\n",
       "      <th>Estimated Value</th>\n",
       "      <th>Property</th>\n",
       "      <th>Residential</th>\n",
       "      <th>num_rooms</th>\n",
       "      <th>carpet_area</th>\n",
       "      <th>property_tax_rate</th>\n",
       "      <th>Day</th>\n",
       "      <th>month</th>\n",
       "      <th>is_weekend</th>\n",
       "      <th>quarter</th>\n",
       "      <th>Sale Price</th>\n",
       "    </tr>\n",
       "  </thead>\n",
       "  <tbody>\n",
       "    <tr>\n",
       "      <th>0</th>\n",
       "      <td>2023</td>\n",
       "      <td>41.3167</td>\n",
       "      <td>-72.3000</td>\n",
       "      <td>151400</td>\n",
       "      <td>2</td>\n",
       "      <td>1</td>\n",
       "      <td>3</td>\n",
       "      <td>947</td>\n",
       "      <td>1.46</td>\n",
       "      <td>1</td>\n",
       "      <td>1</td>\n",
       "      <td>1</td>\n",
       "      <td>1</td>\n",
       "      <td>2.286267e+05</td>\n",
       "    </tr>\n",
       "    <tr>\n",
       "      <th>1</th>\n",
       "      <td>2023</td>\n",
       "      <td>41.3053</td>\n",
       "      <td>-73.5014</td>\n",
       "      <td>686900</td>\n",
       "      <td>2</td>\n",
       "      <td>1</td>\n",
       "      <td>3</td>\n",
       "      <td>1051</td>\n",
       "      <td>1.46</td>\n",
       "      <td>1</td>\n",
       "      <td>1</td>\n",
       "      <td>1</td>\n",
       "      <td>1</td>\n",
       "      <td>1.043377e+06</td>\n",
       "    </tr>\n",
       "    <tr>\n",
       "      <th>2</th>\n",
       "      <td>2023</td>\n",
       "      <td>41.6097</td>\n",
       "      <td>-72.6631</td>\n",
       "      <td>152030</td>\n",
       "      <td>2</td>\n",
       "      <td>1</td>\n",
       "      <td>3</td>\n",
       "      <td>925</td>\n",
       "      <td>1.46</td>\n",
       "      <td>4</td>\n",
       "      <td>1</td>\n",
       "      <td>0</td>\n",
       "      <td>1</td>\n",
       "      <td>2.297248e+05</td>\n",
       "    </tr>\n",
       "    <tr>\n",
       "      <th>3</th>\n",
       "      <td>2023</td>\n",
       "      <td>41.3100</td>\n",
       "      <td>-72.9236</td>\n",
       "      <td>156130</td>\n",
       "      <td>2</td>\n",
       "      <td>2</td>\n",
       "      <td>4</td>\n",
       "      <td>1210</td>\n",
       "      <td>1.46</td>\n",
       "      <td>4</td>\n",
       "      <td>1</td>\n",
       "      <td>0</td>\n",
       "      <td>1</td>\n",
       "      <td>2.259580e+05</td>\n",
       "    </tr>\n",
       "    <tr>\n",
       "      <th>4</th>\n",
       "      <td>2023</td>\n",
       "      <td>41.4386</td>\n",
       "      <td>-73.0556</td>\n",
       "      <td>108970</td>\n",
       "      <td>2</td>\n",
       "      <td>1</td>\n",
       "      <td>3</td>\n",
       "      <td>1089</td>\n",
       "      <td>1.46</td>\n",
       "      <td>4</td>\n",
       "      <td>1</td>\n",
       "      <td>0</td>\n",
       "      <td>1</td>\n",
       "      <td>1.228415e+05</td>\n",
       "    </tr>\n",
       "    <tr>\n",
       "      <th>...</th>\n",
       "      <td>...</td>\n",
       "      <td>...</td>\n",
       "      <td>...</td>\n",
       "      <td>...</td>\n",
       "      <td>...</td>\n",
       "      <td>...</td>\n",
       "      <td>...</td>\n",
       "      <td>...</td>\n",
       "      <td>...</td>\n",
       "      <td>...</td>\n",
       "      <td>...</td>\n",
       "      <td>...</td>\n",
       "      <td>...</td>\n",
       "      <td>...</td>\n",
       "    </tr>\n",
       "    <tr>\n",
       "      <th>43949</th>\n",
       "      <td>2023</td>\n",
       "      <td>41.3433</td>\n",
       "      <td>-73.0686</td>\n",
       "      <td>137600</td>\n",
       "      <td>2</td>\n",
       "      <td>1</td>\n",
       "      <td>3</td>\n",
       "      <td>1047</td>\n",
       "      <td>1.46</td>\n",
       "      <td>30</td>\n",
       "      <td>9</td>\n",
       "      <td>1</td>\n",
       "      <td>3</td>\n",
       "      <td>2.063856e+05</td>\n",
       "    </tr>\n",
       "    <tr>\n",
       "      <th>43950</th>\n",
       "      <td>2023</td>\n",
       "      <td>41.9750</td>\n",
       "      <td>-72.5494</td>\n",
       "      <td>114650</td>\n",
       "      <td>2</td>\n",
       "      <td>1</td>\n",
       "      <td>3</td>\n",
       "      <td>921</td>\n",
       "      <td>1.46</td>\n",
       "      <td>30</td>\n",
       "      <td>9</td>\n",
       "      <td>1</td>\n",
       "      <td>3</td>\n",
       "      <td>1.432061e+05</td>\n",
       "    </tr>\n",
       "    <tr>\n",
       "      <th>43951</th>\n",
       "      <td>2023</td>\n",
       "      <td>41.8706</td>\n",
       "      <td>-72.8253</td>\n",
       "      <td>163400</td>\n",
       "      <td>2</td>\n",
       "      <td>1</td>\n",
       "      <td>3</td>\n",
       "      <td>957</td>\n",
       "      <td>1.46</td>\n",
       "      <td>30</td>\n",
       "      <td>9</td>\n",
       "      <td>1</td>\n",
       "      <td>3</td>\n",
       "      <td>2.431547e+05</td>\n",
       "    </tr>\n",
       "    <tr>\n",
       "      <th>43952</th>\n",
       "      <td>2023</td>\n",
       "      <td>41.3500</td>\n",
       "      <td>-72.4167</td>\n",
       "      <td>282300</td>\n",
       "      <td>2</td>\n",
       "      <td>1</td>\n",
       "      <td>3</td>\n",
       "      <td>1081</td>\n",
       "      <td>1.46</td>\n",
       "      <td>30</td>\n",
       "      <td>9</td>\n",
       "      <td>1</td>\n",
       "      <td>3</td>\n",
       "      <td>4.593673e+05</td>\n",
       "    </tr>\n",
       "    <tr>\n",
       "      <th>43953</th>\n",
       "      <td>2023</td>\n",
       "      <td>41.2243</td>\n",
       "      <td>-73.0576</td>\n",
       "      <td>128930</td>\n",
       "      <td>2</td>\n",
       "      <td>1</td>\n",
       "      <td>3</td>\n",
       "      <td>962</td>\n",
       "      <td>1.46</td>\n",
       "      <td>30</td>\n",
       "      <td>9</td>\n",
       "      <td>1</td>\n",
       "      <td>3</td>\n",
       "      <td>1.897058e+05</td>\n",
       "    </tr>\n",
       "  </tbody>\n",
       "</table>\n",
       "<p>43954 rows × 14 columns</p>\n",
       "</div>"
      ],
      "text/plain": [
       "       Year  Latitude  Longitude  Estimated Value  Property  Residential   \n",
       "0      2023   41.3167   -72.3000           151400         2            1  \\\n",
       "1      2023   41.3053   -73.5014           686900         2            1   \n",
       "2      2023   41.6097   -72.6631           152030         2            1   \n",
       "3      2023   41.3100   -72.9236           156130         2            2   \n",
       "4      2023   41.4386   -73.0556           108970         2            1   \n",
       "...     ...       ...        ...              ...       ...          ...   \n",
       "43949  2023   41.3433   -73.0686           137600         2            1   \n",
       "43950  2023   41.9750   -72.5494           114650         2            1   \n",
       "43951  2023   41.8706   -72.8253           163400         2            1   \n",
       "43952  2023   41.3500   -72.4167           282300         2            1   \n",
       "43953  2023   41.2243   -73.0576           128930         2            1   \n",
       "\n",
       "       num_rooms  carpet_area  property_tax_rate  Day  month  is_weekend   \n",
       "0              3          947               1.46    1      1           1  \\\n",
       "1              3         1051               1.46    1      1           1   \n",
       "2              3          925               1.46    4      1           0   \n",
       "3              4         1210               1.46    4      1           0   \n",
       "4              3         1089               1.46    4      1           0   \n",
       "...          ...          ...                ...  ...    ...         ...   \n",
       "43949          3         1047               1.46   30      9           1   \n",
       "43950          3          921               1.46   30      9           1   \n",
       "43951          3          957               1.46   30      9           1   \n",
       "43952          3         1081               1.46   30      9           1   \n",
       "43953          3          962               1.46   30      9           1   \n",
       "\n",
       "       quarter    Sale Price  \n",
       "0            1  2.286267e+05  \n",
       "1            1  1.043377e+06  \n",
       "2            1  2.297248e+05  \n",
       "3            1  2.259580e+05  \n",
       "4            1  1.228415e+05  \n",
       "...        ...           ...  \n",
       "43949        3  2.063856e+05  \n",
       "43950        3  1.432061e+05  \n",
       "43951        3  2.431547e+05  \n",
       "43952        3  4.593673e+05  \n",
       "43953        3  1.897058e+05  \n",
       "\n",
       "[43954 rows x 14 columns]"
      ]
     },
     "execution_count": 116,
     "metadata": {},
     "output_type": "execute_result"
    }
   ],
   "source": [
    "test_data_new"
   ]
  },
  {
   "cell_type": "code",
   "execution_count": 117,
   "id": "b525e19a",
   "metadata": {},
   "outputs": [],
   "source": [
    "train_data_new.to_csv(\"processed_train_data.csv\", index = False)"
   ]
  },
  {
   "cell_type": "code",
   "execution_count": 118,
   "id": "8ba32816",
   "metadata": {},
   "outputs": [],
   "source": [
    "test_data_new.to_csv(\"processed_test_data.csv\", index = False)"
   ]
  },
  {
   "cell_type": "code",
   "execution_count": 90,
   "id": "f9a147a8",
   "metadata": {},
   "outputs": [],
   "source": [
    "from sklearn.mixture import GaussianMixture"
   ]
  },
  {
   "cell_type": "code",
   "execution_count": 91,
   "id": "067d5f01",
   "metadata": {},
   "outputs": [],
   "source": [
    "n_components = 4\n",
    "gmm = GaussianMixture(n_components=n_components, covariance_type='full', random_state=42)"
   ]
  },
  {
   "cell_type": "code",
   "execution_count": 92,
   "id": "17b05323",
   "metadata": {},
   "outputs": [
    {
     "data": {
      "text/html": [
       "<style>#sk-container-id-5 {color: black;background-color: white;}#sk-container-id-5 pre{padding: 0;}#sk-container-id-5 div.sk-toggleable {background-color: white;}#sk-container-id-5 label.sk-toggleable__label {cursor: pointer;display: block;width: 100%;margin-bottom: 0;padding: 0.3em;box-sizing: border-box;text-align: center;}#sk-container-id-5 label.sk-toggleable__label-arrow:before {content: \"▸\";float: left;margin-right: 0.25em;color: #696969;}#sk-container-id-5 label.sk-toggleable__label-arrow:hover:before {color: black;}#sk-container-id-5 div.sk-estimator:hover label.sk-toggleable__label-arrow:before {color: black;}#sk-container-id-5 div.sk-toggleable__content {max-height: 0;max-width: 0;overflow: hidden;text-align: left;background-color: #f0f8ff;}#sk-container-id-5 div.sk-toggleable__content pre {margin: 0.2em;color: black;border-radius: 0.25em;background-color: #f0f8ff;}#sk-container-id-5 input.sk-toggleable__control:checked~div.sk-toggleable__content {max-height: 200px;max-width: 100%;overflow: auto;}#sk-container-id-5 input.sk-toggleable__control:checked~label.sk-toggleable__label-arrow:before {content: \"▾\";}#sk-container-id-5 div.sk-estimator input.sk-toggleable__control:checked~label.sk-toggleable__label {background-color: #d4ebff;}#sk-container-id-5 div.sk-label input.sk-toggleable__control:checked~label.sk-toggleable__label {background-color: #d4ebff;}#sk-container-id-5 input.sk-hidden--visually {border: 0;clip: rect(1px 1px 1px 1px);clip: rect(1px, 1px, 1px, 1px);height: 1px;margin: -1px;overflow: hidden;padding: 0;position: absolute;width: 1px;}#sk-container-id-5 div.sk-estimator {font-family: monospace;background-color: #f0f8ff;border: 1px dotted black;border-radius: 0.25em;box-sizing: border-box;margin-bottom: 0.5em;}#sk-container-id-5 div.sk-estimator:hover {background-color: #d4ebff;}#sk-container-id-5 div.sk-parallel-item::after {content: \"\";width: 100%;border-bottom: 1px solid gray;flex-grow: 1;}#sk-container-id-5 div.sk-label:hover label.sk-toggleable__label {background-color: #d4ebff;}#sk-container-id-5 div.sk-serial::before {content: \"\";position: absolute;border-left: 1px solid gray;box-sizing: border-box;top: 0;bottom: 0;left: 50%;z-index: 0;}#sk-container-id-5 div.sk-serial {display: flex;flex-direction: column;align-items: center;background-color: white;padding-right: 0.2em;padding-left: 0.2em;position: relative;}#sk-container-id-5 div.sk-item {position: relative;z-index: 1;}#sk-container-id-5 div.sk-parallel {display: flex;align-items: stretch;justify-content: center;background-color: white;position: relative;}#sk-container-id-5 div.sk-item::before, #sk-container-id-5 div.sk-parallel-item::before {content: \"\";position: absolute;border-left: 1px solid gray;box-sizing: border-box;top: 0;bottom: 0;left: 50%;z-index: -1;}#sk-container-id-5 div.sk-parallel-item {display: flex;flex-direction: column;z-index: 1;position: relative;background-color: white;}#sk-container-id-5 div.sk-parallel-item:first-child::after {align-self: flex-end;width: 50%;}#sk-container-id-5 div.sk-parallel-item:last-child::after {align-self: flex-start;width: 50%;}#sk-container-id-5 div.sk-parallel-item:only-child::after {width: 0;}#sk-container-id-5 div.sk-dashed-wrapped {border: 1px dashed gray;margin: 0 0.4em 0.5em 0.4em;box-sizing: border-box;padding-bottom: 0.4em;background-color: white;}#sk-container-id-5 div.sk-label label {font-family: monospace;font-weight: bold;display: inline-block;line-height: 1.2em;}#sk-container-id-5 div.sk-label-container {text-align: center;}#sk-container-id-5 div.sk-container {/* jupyter's `normalize.less` sets `[hidden] { display: none; }` but bootstrap.min.css set `[hidden] { display: none !important; }` so we also need the `!important` here to be able to override the default hidden behavior on the sphinx rendered scikit-learn.org. See: https://github.com/scikit-learn/scikit-learn/issues/21755 */display: inline-block !important;position: relative;}#sk-container-id-5 div.sk-text-repr-fallback {display: none;}</style><div id=\"sk-container-id-5\" class=\"sk-top-container\"><div class=\"sk-text-repr-fallback\"><pre>GaussianMixture(n_components=4, random_state=42)</pre><b>In a Jupyter environment, please rerun this cell to show the HTML representation or trust the notebook. <br />On GitHub, the HTML representation is unable to render, please try loading this page with nbviewer.org.</b></div><div class=\"sk-container\" hidden><div class=\"sk-item\"><div class=\"sk-estimator sk-toggleable\"><input class=\"sk-toggleable__control sk-hidden--visually\" id=\"sk-estimator-id-5\" type=\"checkbox\" checked><label for=\"sk-estimator-id-5\" class=\"sk-toggleable__label sk-toggleable__label-arrow\">GaussianMixture</label><div class=\"sk-toggleable__content\"><pre>GaussianMixture(n_components=4, random_state=42)</pre></div></div></div></div></div>"
      ],
      "text/plain": [
       "GaussianMixture(n_components=4, random_state=42)"
      ]
     },
     "execution_count": 92,
     "metadata": {},
     "output_type": "execute_result"
    }
   ],
   "source": [
    "# Fit the model and predict clusters\n",
    "gmm.fit(X_cluster_data)"
   ]
  },
  {
   "cell_type": "code",
   "execution_count": 93,
   "id": "a8856593",
   "metadata": {},
   "outputs": [],
   "source": [
    "# predict the cluster labels\n",
    "y_pred = gmm.predict(X_cluster_data)"
   ]
  },
  {
   "cell_type": "code",
   "execution_count": 94,
   "id": "49e2ea0b",
   "metadata": {},
   "outputs": [],
   "source": [
    "# Assign the predicted cluster labels to each row in the dataframe\n",
    "train_data_new['segment'] = y_pred"
   ]
  },
  {
   "cell_type": "code",
   "execution_count": 95,
   "id": "5ee5e6b0",
   "metadata": {},
   "outputs": [],
   "source": [
    "train_data_new.to_csv(\"processed_train_data_v1.csv\", index = False)"
   ]
  },
  {
   "cell_type": "code",
   "execution_count": null,
   "id": "a3f286ea",
   "metadata": {},
   "outputs": [],
   "source": []
  }
 ],
 "metadata": {
  "kernelspec": {
   "display_name": "Python 3 (ipykernel)",
   "language": "python",
   "name": "python3"
  },
  "language_info": {
   "codemirror_mode": {
    "name": "ipython",
    "version": 3
   },
   "file_extension": ".py",
   "mimetype": "text/x-python",
   "name": "python",
   "nbconvert_exporter": "python",
   "pygments_lexer": "ipython3",
   "version": "3.9.16"
  }
 },
 "nbformat": 4,
 "nbformat_minor": 5
}
